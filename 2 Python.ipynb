{
 "cells": [
  {
   "cell_type": "markdown",
   "id": "ad83e8af",
   "metadata": {},
   "source": [
    "# Programação Python\n",
    "\n",
    "#### Criar uma rotina de estudo da linguagem com o foco em aprender cada vez mais a linguagem e seus conceitos adicionando sempre problemas e desafios para fixa os estudos. Foco total em Data Science então os topicos abordados seram totalmente voltados para a área.\n",
    "\n",
    "- Estruturas de dados\n",
    "- Estruturas condicionais\n",
    "- Funções\n",
    "- Expressões e Built-in\n",
    "- Erros e Exceções\n",
    "- Classes\n",
    "- Pandas\n",
    "- Numpy"
   ]
  },
  {
   "cell_type": "code",
   "execution_count": null,
   "id": "57b64004",
   "metadata": {},
   "outputs": [],
   "source": []
  },
  {
   "cell_type": "markdown",
   "id": "3b418fe6",
   "metadata": {},
   "source": [
    "## Estrutura de dados - Lista\n",
    "Python inclui diversas estruturas de dados compostas, usadas para agrupar outros valores. A mais versátil é list (lista), que pode ser escrita como uma lista de valores (itens) separados por vírgula, entre colchetes. Os valores contidos na lista não precisam ser todos do mesmo tipo."
   ]
  },
  {
   "cell_type": "code",
   "execution_count": 1,
   "id": "8bc0a537",
   "metadata": {
    "scrolled": false
   },
   "outputs": [
    {
     "name": "stdout",
     "output_type": "stream",
     "text": [
      "['Uva', 'Maçã', 'Banana', 'Laranja']\n",
      "Banana\n",
      "['Maçã', 'Banana']\n",
      "[1, 2, 3, 4, 4, 'Brasil', 'Japão', 6.585, 4.2, True, False]\n",
      "Japão\n",
      "[1, 3, 4, 'Japão', 4.2, False]\n",
      "[[5, 4, 8, 'São Paulo'], ['Rio de Janeiro', 'Minas Gerais']]\n",
      "[['Uva', 'Maçã', 'Banana', 'Laranja'], [1, 2, 3, 4, 4, 'Brasil', 'Japão', 6.585, 4.2, True, False]]\n",
      "[['Uva', 'Maçã', 'Banana', 'Laranja'], [1, 2, 3, 4, 4, 'Brasil', 'Japão', 6.585, 4.2, True, False], [5, 4, 8, 'São Paulo'], ['Rio de Janeiro', 'Minas Gerais'], 78, 57, 522, 78.422]\n",
      "[5, 4, 8, 'São Paulo']\n",
      "São Paulo\n",
      "[1, 2, 'Bahia', 4, 4, 'Brasil', 'Japão', 6.585, 4.2, True, False]\n",
      "[[5, 758, 8, 'São Paulo'], ['Rio de Janeiro', 'Minas Gerais']]\n",
      "8\n",
      "2\n",
      "[1, 9, 17, 25, 33, 41, 49, 57, 65, 73, 81, 89, 97]\n"
     ]
    }
   ],
   "source": [
    "# Criando um lista - A liste é criada a partir de colchetes [] e atribuindo valores de tipos iguais ou diferente\n",
    "lista = ['Uva', 'Maçã', 'Banana', 'Laranja']\n",
    "\n",
    "# Imprimindo a lista\n",
    "print(lista)\n",
    "\n",
    "# Uma lista pode ser indexada ou fatiada, lembrando os indices em Python iniciam em 0, vejamos:\n",
    "print(lista[2])  # Retorna o valor do indice 2\n",
    "print(lista[1:3])  # Usando fatiamento (slice) para retornar os valores a partir do indice 1 ate o indice 3\n",
    "\n",
    "# Lista de tipos - Na lista podemos colocar diversos tipos de dados de uma vez\n",
    "lista2 = [1, 2, 3, 4, 4, 'Brasil', 'Japão', 6.585, 4.2, True, False]\n",
    "\n",
    "print(lista2)\n",
    "print(lista2[6])\n",
    "print(lista2[0::2])  # Dessa forma o slice vai iniciar no 0 até o ultimo valor sendo seu passo de 2 em 2 \n",
    "\n",
    "# Lista aninhadas ou matriz de lista - Vamos criar uma nova e usando as duas anteriores \n",
    "lista3 = [[5,4,8,'São Paulo'],['Rio de Janeiro', 'Minas Gerais']]\n",
    "lista4 = [lista, lista2]  # Aqui usaremos as duas listas anteriores para criar, podendo usar quantas lista for necessario\n",
    "lista5 = lista4 + lista3 + [78, 57, 522, 78.422]\n",
    "\n",
    "print(lista3)  # Dessa forma teremos duas lista dentro de uma lista\n",
    "print(lista4)\n",
    "print(lista5)\n",
    "\n",
    "# Dessa for o fatiamento se torna diferente pois cada lista passa a ser um indice e ter um indice dentro de cada uma\n",
    "\n",
    "print(lista5[2])  # Retornará a lista no indice 2 vamos acessar os indices dentro dela\n",
    "print(lista5[2][3])  # Assim acessamos os elementos dentro de lista de listas\n",
    "\n",
    "# Diferentemente de strings, que são imutáveis, listas são mutáveis, sendo possível alterar elementos individuais de uma lista\n",
    "\n",
    "lista2[2] = 'Bahia'  # Vamos alterar o valor do indice 2 \n",
    "print(lista2)  # Sendo assim o valor que antes era 3 passou a ser Bahia\n",
    "\n",
    "lista3[0][1] = 758  # Alterando em uma lista dentro de outra passa o indice da lista e o indice a mudar\n",
    "print(lista3)\n",
    "\n",
    "# Função Built-in len() - Devolve o comprimento (o número de itens) de um objeto. Sendo uma sequência como string, bytes, \n",
    "# tupla, lista, intervalo e coleção. \n",
    "\n",
    "# Podemos usar a função len para ter o tamanho da lista\n",
    "\n",
    "print(len(lista5))  # A lista5 contém 4 listas e 4 objetos fora de lista.\n",
    "print(len(lista4))\n",
    "\n",
    "# Função built-in Range - Gera uma sequência de valores sendo eles inteiros, start -> stop -> step range(inicio, fim, passo)\n",
    "# Para essa lista iremos usar outra função built-in a list(), ela gera uma lista a partir do range.\n",
    "\n",
    "lista6 = list(range(1,100,8))  # Passamos o valor inicial, o valor final e o passo será de 8 e 8\n",
    "print(lista6)  # O ultimo valor em python não é iteravel\n",
    "\n"
   ]
  },
  {
   "cell_type": "code",
   "execution_count": 2,
   "id": "d42089e4",
   "metadata": {},
   "outputs": [
    {
     "name": "stdout",
     "output_type": "stream",
     "text": [
      "[1, 9, 17, 25, 33, 41, 49, 57, 65, 73, 81, 89, 97, 'Maracuja']\n",
      "[]\n",
      "[1, 2, 'Bahia', 4, 4, 'Brasil', 'Japão', 6.585, 4.2, True, False]\n",
      "2\n",
      "[[], [1, 2, 'Bahia', 4, 4, 'Brasil', 'Japão', 6.585, 4.2, True, False], [5, 758, 8, 'São Paulo'], ['Rio de Janeiro', 'Minas Gerais'], 78, 57, 522, 78.422, 1, 9, 17, 25, 33, 41, 49, 57, 65, 73, 81, 89, 97, 'Maracuja']\n",
      "16\n",
      "[7887]\n",
      "[1, 2, 'Bahia', 4, 4, 'Brasil', 'Japão', 6.585, True, False]\n",
      "[1, 9, 17, 25, 33, 41, 49, 57, 65, 73, 81, 89, 97]\n",
      "[97, 89, 81, 73, 65, 57, 49, 41, 33, 25, 17, 9, 1]\n",
      "[1, 9, 17, 25, 33, 41, 49, 57, 65, 73, 81, 89, 97]\n"
     ]
    }
   ],
   "source": [
    "# Metodo e funções Built-in iremos passar por todos os topicos\n",
    "# Métodos Append, Clear, Count... \n",
    "\n",
    "# O método append() anexa um elemento ao final da lista.\n",
    "lista6.append('Maracuja')\n",
    "print(lista6)\n",
    "\n",
    "# O método clear() remove todos os elementos de uma lista.\n",
    "lista.clear()\n",
    "print(lista)  # Retorna a lista vazia\n",
    "\n",
    "# O método copy() retorna uma cópia da lista especificada.\n",
    "x = lista2.copy()\n",
    "print(x) # Retornará o valor da lista2\n",
    "\n",
    "# O método count() retorna o número de elementos com o valor especificado.\n",
    "print(lista2.count(4)) # Retornará a quantidade de vezes que o valor 4 aparece na lista\n",
    "\n",
    "# O método extend() adiciona os elementos de lista especificados (ou qualquer iterável) ao final da lista atual.\n",
    "lista5.extend(lista6)\n",
    "print(lista5)\n",
    "\n",
    "# O método index() retorna o indice (a posição) do valor especificado.\n",
    "print(lista5.index(65))\n",
    "\n",
    "# O método insert() insere o valor especificado na posição especificada.\n",
    "lista.insert(0, 7887)\n",
    "print(lista)\n",
    "\n",
    "# O método pop() remove o elemento na posição especificada.\n",
    "lista2.pop(8)\n",
    "print(lista2)\n",
    "\n",
    "# O método remove() remove a primeira ocorrência do elemento com o valor especificado.\n",
    "lista6.remove('Maracuja')\n",
    "print(lista6)\n",
    "\n",
    "# O método reverse() inverte a ordem de classificação dos elementos.\n",
    "lista6.reverse()\n",
    "print(lista6)\n",
    "\n",
    "# O método sort() classifica a lista em ordem crescente por padrão.\n",
    "lista6.sort()\n",
    "print(lista6)"
   ]
  },
  {
   "cell_type": "markdown",
   "id": "9ce1dfd4",
   "metadata": {},
   "source": [
    "## Estrutura de dados - Dicionários\n",
    "O dicionário, cujo tipo é dict () são também chamados de “memória associativa” ou “vetor associativo” em outras linguagens. Diferente de sequências que são indexadas por inteiros, dicionários são indexados por chaves (keys), que podem ser de qualquer tipo imutável (como strings e inteiros)."
   ]
  },
  {
   "cell_type": "code",
   "execution_count": 3,
   "id": "a53d3713",
   "metadata": {},
   "outputs": [
    {
     "data": {
      "text/plain": [
       "'UVA'"
      ]
     },
     "execution_count": 3,
     "metadata": {},
     "output_type": "execute_result"
    }
   ],
   "source": [
    "# A forma mais simples de criar um dicionário é usando as chaves {}\n",
    "dic = {}\n",
    "dic  # Retornará um dicionário vazio \n",
    "\n",
    "# Vamos entender o conceito do dicionário, ele é uma estrutura de mapeamento muito utilizado para armazenar dados categoricos\n",
    "# como em bancos de dados você tem a chave e o valor atribuido, como em um sistema de cadastro Key: value vejamos:\n",
    "\n",
    "dic = {'Maria': 24, 'João': 18, 'Lucas': 33, 'Pedro': 47}  # Aqui temos os nomes sendo as chaves e a idade recebendo os valores\n",
    "dic\n",
    "\n",
    "# Podemos retornar a partir de suas chaves ex:\n",
    "dic['João']  # O retorno será idade de joão\n",
    "\n",
    "# Podemos inserir valores \n",
    "dic['Marcus'] = 62\n",
    "dic  # No fim ele reconhece que não existe Marcus e adiciona o valor\n",
    "\n",
    "# Alterar um valor é simples ele retorna a chave e altera o valor\n",
    "dic['Pedro'] = 48\n",
    "dic \n",
    "\n",
    "# Deletar valores a partir da chave usando a função del\n",
    "del dic['Marcus']\n",
    "dic  # Podemos usar a função em qualquer chave\n",
    "\n",
    "# Retornando uma lista de chaves\n",
    "list(dic)  # dessa forma retornará todos as chaves em uma lista\n",
    "\n",
    "# E usar o sorted para ordernar as chaves\n",
    "sorted(dic)\n",
    "\n",
    "# Usando o metódo clear para limpar o dicionário e o del para apagar\n",
    "dic.clear()\n",
    "dic  # Ele retornará o valor vazio do dicionário\n",
    "del dic # Apagará o dicionario\n",
    "# dic Ele rotorna um erro informando que não existe mais o dicionário\n",
    "\n",
    "# Criando um novo dicionário\n",
    "nomes = {'Maria': 24, 'João': 18, 'Lucas': 33, 'Pedro': 47}\n",
    "nomes\n",
    "\n",
    "# Usando a função len podemos retornar o tamanho do dicionário\n",
    "len(nomes)\n",
    "\n",
    "# E usando as funções keys e values ele vai nos retornar as chaves e os valores\n",
    "nomes.keys()\n",
    "nomes.values()\n",
    "\n",
    "# A função items retorna cada item do dicionario com o seu valor\n",
    "nomes.items()\n",
    "\n",
    "# Vamos criar outro dicionário para usar a função upgrade\n",
    "nomes2 = {'Roger': 34, 'Marta': 23}\n",
    "nomes.update(nomes2)  # Usando o upgrade\n",
    "nomes  # Teremos uma concatenação dos valores\n",
    "\n",
    "# Criando uma lista de dicionário\n",
    "cadastro = [{\n",
    "    'id': 1,'nome': 'Claudio','idade': 43,'sexo': 'M'},\n",
    "    {'id': 2,'nome': 'Vitor','idade': 19,'sexo': 'M'}]\n",
    "\n",
    "cadastro \n",
    "cadastro[0]  # Podemos retornar apenas os valores do dicionário no indice 0\n",
    "\n",
    "# Criando um dicionário de listas\n",
    "dic2 = {'key1': 8554, 'key2': [54,8441,23,471], 'key3': ['Maçã', 'Uva']}\n",
    "dic2\n",
    "dic2['key2'][1] # Da mesma forma podemos usar os indices para retonar valores\n",
    "dic2['key3'][1].upper()  # Podemos usar funções a partir dos indices\n",
    "\n",
    "\n"
   ]
  },
  {
   "cell_type": "markdown",
   "id": "bc093731",
   "metadata": {},
   "source": [
    "## Tuplas\n",
    "Uma tupla consiste em uma sequência de valores separados por vírgulas, vimos que listas e strings têm muitas propriedades em comum, como indexação e operações de fatiamento. Apesar de tuplas serem similares a listas, elas são frequentemente utilizadas em situações diferentes e com propósitos distintos. Tuplas são imutáveis, e usualmente contém uma sequência heterogênea de elementos que são acessados via desempacotamento ou índice. Listas são mutáveis, e seus elementos geralmente são homogêneos e são acessados iterando sobre a lista."
   ]
  },
  {
   "cell_type": "code",
   "execution_count": 4,
   "id": "e321d6e1",
   "metadata": {},
   "outputs": [
    {
     "data": {
      "text/plain": [
       "('Maria', 8445, 8.3, True, 'Marcus')"
      ]
     },
     "execution_count": 4,
     "metadata": {},
     "output_type": "execute_result"
    }
   ],
   "source": [
    "# A criação de uma tupla é simples como a lista ela é representada por ()\n",
    "tupla = ()\n",
    "tupla  # Uma tupla vazia\n",
    "\n",
    "# Vamos atribuir valores a ela - assim como lista ela aceita todos os tipos de dados\n",
    "tupla = ('Maria', 8445, 8.3, True)\n",
    "tupla\n",
    "\n",
    "# A diferença da tupla para a lista é que tuplas são imutaveis seus valores não mudam\n",
    "# ela nao aceita append, del item, adicionar ou mudar o valor do item.\n",
    "\n",
    "#del tupla[0]  # Retorna um error informando que tupla não suporta deletação de itens\n",
    "#tupla.append(85)  # Assim como no del acontece no append\n",
    "\n",
    "# Podemos usar o len para retonar o tamanho da tupla e o index a partir de um valor\n",
    "len(tupla)\n",
    "tupla.index(8.3)  # Assim retorna o indice do valor\n",
    "\n",
    "# Podemos deletar a tupla inteira usando o 'del tupla'\n",
    "\n",
    "# Alterando um elemento através da função list\n",
    "tupla = list(tupla)\n",
    "tupla  # Dessa forma alteramos a tupla em lista \n",
    "\n",
    "tupla.append('Marcus')  # Adicionamos um valor no final da lista \n",
    "\n",
    "tupla = tuple(tupla)  # Alteramos novamente para tupla apos adicionar o novo valor\n",
    "tupla\n"
   ]
  },
  {
   "cell_type": "code",
   "execution_count": null,
   "id": "924ff910",
   "metadata": {},
   "outputs": [],
   "source": []
  },
  {
   "cell_type": "markdown",
   "id": "2a8c02dc",
   "metadata": {},
   "source": [
    "## Estruturas condicionais - If / Elif / Else\n",
    "\n",
    "A estrutura condicional if é usada a partir de uma condição sendo ela verdadeira ou falsa, na qual o você passa uma expressão e a partir do resultado veremos se a estrutura irá continuar ou finalizar sua operação.\n",
    "\n",
    "- SE expressão for verdadeira:\n",
    "    imprima algo\n",
    "- SENAO:\n",
    "    imprima algo\n",
    "    "
   ]
  },
  {
   "cell_type": "code",
   "execution_count": 10,
   "id": "48b4e537",
   "metadata": {},
   "outputs": [
    {
     "name": "stdout",
     "output_type": "stream",
     "text": [
      "Python é TOP\n"
     ]
    }
   ],
   "source": [
    "# Exemplo da estrutura:\n",
    "# if expressão :\n",
    "#     print('Retorno da expressão')\n",
    "# else:\n",
    "#     print('Finalização da expressão')\n",
    "\n",
    "# IF\n",
    "if 5 > 2:\n",
    "    print('Python é TOP')"
   ]
  },
  {
   "cell_type": "code",
   "execution_count": 13,
   "id": "4988f5e0",
   "metadata": {},
   "outputs": [
    {
     "name": "stdout",
     "output_type": "stream",
     "text": [
      "Python é gigante\n"
     ]
    }
   ],
   "source": [
    "# IF e ELSE\n",
    "if len('Python') > 8:  # Se o tamanho da palavra Python for maior que 8 imprima senão segue o fluxo\n",
    "    print('Super Python')\n",
    "else:  # Se o tamanho da palavra Python for menor que 8 segue o fluxo\n",
    "    print('Python é gigante')"
   ]
  },
  {
   "cell_type": "code",
   "execution_count": 15,
   "id": "4843000d",
   "metadata": {},
   "outputs": [
    {
     "name": "stdout",
     "output_type": "stream",
     "text": [
      "Aqui é Python\n"
     ]
    }
   ],
   "source": [
    "# IF, ELIF e ELSE\n",
    "if len('Python') > 8:  # Se o tamanho da palavra Python for maior que 8 imprima senão segue o fluxo\n",
    "    print('Super Python')\n",
    "elif len('Python') <= 6:  # Se o tamanho da palavra Python for menor ou igual a 6 imprima senão segue o fluxo\n",
    "    print('Aqui é Python')\n",
    "else:  # Se o tamanho da palavra Python for menor que 8 segue o fluxo\n",
    "    print('Python é gigante')"
   ]
  },
  {
   "cell_type": "code",
   "execution_count": 20,
   "id": "c6753ed8",
   "metadata": {},
   "outputs": [
    {
     "name": "stdout",
     "output_type": "stream",
     "text": [
      "Você pode dirigir\n"
     ]
    }
   ],
   "source": [
    "# Usando IF com outros valores\n",
    "nome = 'João'\n",
    "idade = 22\n",
    "\n",
    "if idade > 18:\n",
    "    print('Você pode dirigir')\n",
    "else:\n",
    "    print('Não esta na idade para dirigir')"
   ]
  },
  {
   "cell_type": "code",
   "execution_count": 21,
   "id": "dbe577ee",
   "metadata": {},
   "outputs": [
    {
     "name": "stdout",
     "output_type": "stream",
     "text": [
      "Ok Jõao você pode dirigir\n"
     ]
    }
   ],
   "source": [
    "# Aninhando condições\n",
    "if idade > 18:\n",
    "    if nome == 'João':\n",
    "        print('Ok Jõao você pode dirigir')\n",
    "else:\n",
    "    print('Desculpa, sem autorização') "
   ]
  },
  {
   "cell_type": "code",
   "execution_count": 34,
   "id": "297111ab",
   "metadata": {},
   "outputs": [
    {
     "name": "stdout",
     "output_type": "stream",
     "text": [
      "Olá João, autorizado a dirigir\n",
      "Olá João, autorizado a dirigir\n",
      "Olá tudo bem?\n",
      "Idade maior que 18\n"
     ]
    }
   ],
   "source": [
    "# Operadores Booleanos And, Or e Not\n",
    "\n",
    "idade = 22\n",
    "nome = 'João'\n",
    "\n",
    "# And as duas condições precisam ser verdadeiras\n",
    "if idade > 18 and nome == 'João':  # Só será verdadeiro caso as duas condições serem verdadeiras\n",
    "    print('Olá João, autorizado a dirigir')\n",
    "    \n",
    "# Sendo uma condição falsa\n",
    "if idade > 18 and nome == 'João':\n",
    "    print('Olá João, autorizado a dirigir')\n",
    "else:\n",
    "    print('Desculpa sem autorização')\n",
    "    \n",
    "# OR - uma das condições precisa ser verdadeira\n",
    "if idade > 18 or nome == 'João':\n",
    "    print('Olá tudo bem?')\n",
    "\n",
    "    \n",
    "# Not a condição não será verdadeira\n",
    "if not idade > 18:  # Se idade não for maior que 18 segue a condição\n",
    "    print('Idade menor que 18')\n",
    "else:\n",
    "    print('Idade maior que 18')"
   ]
  },
  {
   "cell_type": "code",
   "execution_count": null,
   "id": "99a3628f",
   "metadata": {},
   "outputs": [],
   "source": []
  },
  {
   "cell_type": "markdown",
   "id": "50117e71",
   "metadata": {},
   "source": [
    "## Estrutura Loop For\n",
    "\n",
    "O comando FOR do Python itera sobre os itens de qualquer sequência (seja uma lista ou uma string), na ordem que aparecem na sequência."
   ]
  },
  {
   "cell_type": "code",
   "execution_count": 35,
   "id": "d2c1561d",
   "metadata": {},
   "outputs": [
    {
     "name": "stdout",
     "output_type": "stream",
     "text": [
      "P\n",
      "y\n",
      "t\n",
      "h\n",
      "o\n",
      "n\n"
     ]
    }
   ],
   "source": [
    "# Estrutura FOR \n",
    "for i in 'Python':  # Para cada indice na string \n",
    "   print(i)  # Imprima indice a indice"
   ]
  },
  {
   "cell_type": "code",
   "execution_count": 5,
   "id": "f9075982",
   "metadata": {},
   "outputs": [
    {
     "name": "stdout",
     "output_type": "stream",
     "text": [
      "1\n",
      "3\n",
      "5\n",
      "7\n",
      "9\n",
      "0\n",
      "1\n",
      "2\n",
      "3\n",
      "4\n",
      "5\n",
      "6\n",
      "7\n",
      "8\n",
      "9\n",
      "6\n",
      "7\n",
      "8\n",
      "9\n",
      "0\n",
      "1\n",
      "2\n",
      "3\n",
      "4\n",
      "0\n",
      "1\n",
      "2\n",
      "3\n",
      "4\n",
      "0\n",
      "1\n",
      "2\n",
      "3\n",
      "4\n",
      "0\n",
      "1\n",
      "2\n",
      "3\n",
      "4\n",
      "0\n",
      "1\n",
      "2\n",
      "3\n",
      "4\n",
      "0\n",
      "1\n",
      "2\n",
      "3\n",
      "4\n",
      "2\n",
      "4\n",
      "6\n",
      "8\n",
      "10\n",
      "12\n",
      "14\n",
      "16\n",
      "18\n",
      "[1, 3, 6, 10, 15, 21, 28, 36, 45]\n",
      "45\n",
      "[5, 6, 7, 8, 9]\n",
      "[1, 2, 3, 4, 5]\n",
      "[2, 4, 6, 8, 10]\n",
      "5\n"
     ]
    }
   ],
   "source": [
    "# Usando tupla e lista com o FOR - o uso é simples e da mesma forma \n",
    "tupla = (1,3,5,7,9)\n",
    "for x in tupla:\n",
    "    print(x)\n",
    "    \n",
    "\n",
    "lista = [0,1,2,3,4,5,6,7,8,9]\n",
    "for i in lista:\n",
    "    print(i)\n",
    "    \n",
    "# Loops aninhados \n",
    "for i in lista:\n",
    "    if i > 5:\n",
    "        print(i)\n",
    "        \n",
    "for i in range(0,5):\n",
    "    for a in range(0,5):\n",
    "        print(a)\n",
    "        \n",
    "# Usando o range\n",
    "for c in range(0,5):\n",
    "    print(c)\n",
    "    \n",
    "# Retornando valores pares\n",
    "for p in range(1,20):\n",
    "    if p % 2 == 0:\n",
    "        print(p)\n",
    "        \n",
    "        \n",
    "# Gerando lista de soma a partir do loop for\n",
    "lt = []\n",
    "soma = 0\n",
    "\n",
    "for i in range(1,10):\n",
    "    soma = soma + i\n",
    "    lt.append(soma)\n",
    "print(lt)\n",
    "print(soma)\n",
    "\n",
    "# Percorrendo lista de lista\n",
    "lst = [[5,6,7,8,9],[1,2,3,4,5],[2,4,6,8,10]]\n",
    "for l in lst:\n",
    "    print(l)\n",
    "    \n",
    "\n",
    "# Contando o numero de colunas\n",
    "lst = [[5,6,7,8,9],[1,2,3,4,5],[2,4,6,8,10]]\n",
    "primeira_linha = lst[0]\n",
    "count = 0\n",
    "for column in primeira_linha:\n",
    "    count = count + 1\n",
    "print(count)"
   ]
  },
  {
   "cell_type": "code",
   "execution_count": 8,
   "id": "e3c9bbcf",
   "metadata": {},
   "outputs": [
    {
     "name": "stdout",
     "output_type": "stream",
     "text": [
      "Uva\n",
      "Morango\n",
      "Banana\n",
      "Maçã\n"
     ]
    }
   ],
   "source": [
    "# RANGE\n",
    "lst = list(range(0,10)) # Criando uma lista a partir das funções list e range\n",
    "lst\n",
    "\n",
    "# Verificando o tamanho de uma lista a partir do range\n",
    "lista = ['Uva', 'Morango', 'Banana', 'Maçã']\n",
    "tamanho_lista = len(lista)\n",
    "for i in range(0,tamanho_lista):\n",
    "    print(lista[i])"
   ]
  },
  {
   "cell_type": "code",
   "execution_count": 5,
   "id": "aa7d2862",
   "metadata": {},
   "outputs": [
    {
     "name": "stdout",
     "output_type": "stream",
     "text": [
      "Hello World\n",
      "Olá Wendell, tudo bem?\n",
      "['EU', 'FAÇO', 'DA', 'DIFICULDADE', 'A', 'MINHA', 'MOTIVAÇÃO.', 'A', 'VOLTA', 'POR', 'CIMA', 'VEM', 'NA', 'CONTINUAÇÃO.']\n",
      "O parâmetro passado foi: 10\n",
      "O parâmetro passado foi: Laranja\n",
      "O parâmetro passado foi: Maçã\n",
      "O parâmetro passado foi: Abacaxi\n"
     ]
    }
   ],
   "source": [
    "# FUNÇÃO - é um conjunto de codigo que você usa mais de uma vez passando apenas os parametros e chamando a função\n",
    "# Definindo uma função\n",
    "def funcao(): # Usando a palavra reservada def nome da função (parametros):\n",
    "    print('Hello World') # O retorno da função onde vem todos os codigos\n",
    "    \n",
    "funcao() # Chamando a função e passando os dados de parametro\n",
    "\n",
    "\n",
    "# Definindo função com parametro\n",
    "def funcao_ola(nome): # Passamos um parametro para a função na qual ele irá receber o dado de entrada\n",
    "    print(f'Olá {nome}, tudo bem?') # Iremos retornar uma string usando o parametro\n",
    "    \n",
    "funcao_ola('Wendell') # passamos o parametro\n",
    "\n",
    "\n",
    "# Podemos usar função de diversas formas e todos os dados de entrada\n",
    "# Usando lista\n",
    "\n",
    "def calculadora(lista, n): # Definimos a função com dois parametros\n",
    "    lst = []  # Criamos uma lista vazia para receber os valores\n",
    "    for i in lista: # Usamos um loop for para pegar todos os valores\n",
    "        lst.append(i * n)  # Cada indice da lista sera multiplicado e adicionado a lista vazia\n",
    "    return lst  # Retornaremos a lista com os valores\n",
    "\n",
    "lista = list(range(1,10))  # Criamos uma lista\n",
    "calculadora(lista, 2)  # Chamamos a função e passamos os parametros\n",
    "\n",
    "\n",
    "# Vamos fazer uma divisão de texto usando a função split \n",
    "def split_string(texto):  # Criamos a função com um parametro\n",
    "    return texto.split(' ')  # Retornamos o texto passando pela função split\n",
    "\n",
    "\n",
    "texto = 'Eu faço da dificuldade a minha motivação. A volta por cima vem na continuação.'\n",
    "print(split_string(texto.upper()))  # Usando a função Upper\n",
    "\n",
    "# Quando não temos a quantidade de parametros para a função usamos o arg\n",
    "def printVarInfo(param, *params):\n",
    "    # Imprimindo o valor do primeiro argumento\n",
    "    print(f'O parâmetro passado foi: {param}')\n",
    "    \n",
    "    # Imprimindo o valor do segundo argumento\n",
    "    for item in params:\n",
    "        print(f'O parâmetro passado foi: {item}')\n",
    "    return;\n",
    "\n",
    "\n",
    "printVarInfo(10)\n",
    "printVarInfo('Laranja', 'Maçã', 'Abacaxi')  # Passando varios parametros "
   ]
  },
  {
   "cell_type": "code",
   "execution_count": 14,
   "id": "5908b35b",
   "metadata": {},
   "outputs": [
    {
     "name": "stdout",
     "output_type": "stream",
     "text": [
      "[48]\n"
     ]
    }
   ],
   "source": [
    "# EXPRESSÃO LAMBDA - Ela nos permite criar funções anonimas que significa que podemos fazer rapidamente funções ad-hoc sem \n",
    "# necessidade de definir uma função usando a palavra reservada def e funcionando da mesma forma que uma função def.\n",
    "\n",
    "# O corpo do lambda é uma unica expressão, não um bloco de instruções semelhante a uma instrução de retorno do corpo def.\n",
    "# Expressões lambda são muito usadas em conjunto com as funções map, filter e reduce.\n",
    "\n",
    "# Ex. lambda parametro: retorno --> lambda x: x + 20\n",
    "\n",
    "# Vejamos\n",
    "def calc(num):  # Criamos uma função simples para calcular um numero por 2\n",
    "    return num * 2  # Retornamos o valor calculado\n",
    "\n",
    "calc(10)  # Passamos o parametro na função\n",
    "\n",
    "# Agora vamos usar a função Lambda\n",
    "calc_num = lambda num: num * 2  # Criamos uma variavel para receber a função\n",
    "\n",
    "calc_num(10)  # Passamos o parametro da função na variavel e o resultado é o mesmo\n",
    "\n",
    "# Vamos criar funções baseadas no exemplo anterior\n",
    "\n",
    "# Divisão de string com a função Split\n",
    "div = lambda x: x.split()  # Usando o lambda para dividir uma string\n",
    "div(texto)  # Passando a variavel que esta a string\n",
    "\n",
    "\n",
    "# Adicionando valores a uma lista - Pesquisar como usar um for junto\n",
    "lst = []\n",
    "add = lambda x, y: lst.append(x * y)\n",
    "\n",
    "add(8,6)\n",
    "print(lst)\n",
    "\n",
    "# A grande vantagem de usar Lambda é criar um parâmetro para outra função. \n",
    "# Você não precisa, por exemplo, definir uma função para depois, passá-la para o map usá-la. Basta criar e passar o Lambda adiante. \n",
    "# Isso, consequentemente, já torna suas tarefas muito mais práticas, objetivas e rápidas — ainda mais para quem precisa realizar muitos cálculos diariamente."
   ]
  },
  {
   "cell_type": "code",
   "execution_count": 55,
   "id": "15fcf807",
   "metadata": {},
   "outputs": [
    {
     "data": {
      "text/html": [
       "<div>\n",
       "<style scoped>\n",
       "    .dataframe tbody tr th:only-of-type {\n",
       "        vertical-align: middle;\n",
       "    }\n",
       "\n",
       "    .dataframe tbody tr th {\n",
       "        vertical-align: top;\n",
       "    }\n",
       "\n",
       "    .dataframe thead th {\n",
       "        text-align: right;\n",
       "    }\n",
       "</style>\n",
       "<table border=\"1\" class=\"dataframe\">\n",
       "  <thead>\n",
       "    <tr style=\"text-align: right;\">\n",
       "      <th></th>\n",
       "      <th>admit</th>\n",
       "      <th>gre</th>\n",
       "      <th>gpa</th>\n",
       "      <th>rank</th>\n",
       "    </tr>\n",
       "  </thead>\n",
       "  <tbody>\n",
       "    <tr>\n",
       "      <th>count</th>\n",
       "      <td>5.000000</td>\n",
       "      <td>5.000000</td>\n",
       "      <td>5.000000</td>\n",
       "      <td>5.000000</td>\n",
       "    </tr>\n",
       "    <tr>\n",
       "      <th>mean</th>\n",
       "      <td>0.600000</td>\n",
       "      <td>616.000000</td>\n",
       "      <td>3.480000</td>\n",
       "      <td>3.000000</td>\n",
       "    </tr>\n",
       "    <tr>\n",
       "      <th>std</th>\n",
       "      <td>0.547723</td>\n",
       "      <td>185.148589</td>\n",
       "      <td>0.421307</td>\n",
       "      <td>1.224745</td>\n",
       "    </tr>\n",
       "    <tr>\n",
       "      <th>min</th>\n",
       "      <td>0.000000</td>\n",
       "      <td>380.000000</td>\n",
       "      <td>2.930000</td>\n",
       "      <td>1.000000</td>\n",
       "    </tr>\n",
       "    <tr>\n",
       "      <th>25%</th>\n",
       "      <td>0.000000</td>\n",
       "      <td>520.000000</td>\n",
       "      <td>3.190000</td>\n",
       "      <td>3.000000</td>\n",
       "    </tr>\n",
       "    <tr>\n",
       "      <th>50%</th>\n",
       "      <td>1.000000</td>\n",
       "      <td>640.000000</td>\n",
       "      <td>3.610000</td>\n",
       "      <td>3.000000</td>\n",
       "    </tr>\n",
       "    <tr>\n",
       "      <th>75%</th>\n",
       "      <td>1.000000</td>\n",
       "      <td>660.000000</td>\n",
       "      <td>3.670000</td>\n",
       "      <td>4.000000</td>\n",
       "    </tr>\n",
       "    <tr>\n",
       "      <th>max</th>\n",
       "      <td>1.000000</td>\n",
       "      <td>880.000000</td>\n",
       "      <td>4.000000</td>\n",
       "      <td>4.000000</td>\n",
       "    </tr>\n",
       "  </tbody>\n",
       "</table>\n",
       "</div>"
      ],
      "text/plain": [
       "          admit         gre       gpa      rank\n",
       "count  5.000000    5.000000  5.000000  5.000000\n",
       "mean   0.600000  616.000000  3.480000  3.000000\n",
       "std    0.547723  185.148589  0.421307  1.224745\n",
       "min    0.000000  380.000000  2.930000  1.000000\n",
       "25%    0.000000  520.000000  3.190000  3.000000\n",
       "50%    1.000000  640.000000  3.610000  3.000000\n",
       "75%    1.000000  660.000000  3.670000  4.000000\n",
       "max    1.000000  880.000000  4.000000  4.000000"
      ]
     },
     "execution_count": 55,
     "metadata": {},
     "output_type": "execute_result"
    }
   ],
   "source": [
    "# Exercício 1 - Crie uma função que imprima a sequência de números pares entre 1 e 20 (a função não recebe parâmetro) e \n",
    "# depois faça uma chamada à função para listar os números   \n",
    "\n",
    "def num_par(p):\n",
    "    lst = []\n",
    "    for i in p:\n",
    "        if i % 2 == 0:\n",
    "            lst.append(i)\n",
    "    return lst\n",
    "\n",
    "num_par(range(1,21))\n",
    "\n",
    "# Exercício 2 - Crie uam função que receba uma string como argumento e retorne a mesma string em letras maiúsculas.\n",
    "# Faça uma chamada à função, passando como parâmetro uma string\n",
    "\n",
    "maiusc = lambda x: x.upper()\n",
    "maiusc('wendell')\n",
    "\n",
    "# Exercício 3 - Crie uma função que receba como parâmetro uma lista de 4 elementos, adicione 2 elementos a lista e \n",
    "# imprima a lista\n",
    "\n",
    "lista = [52,24,36,29]\n",
    "\n",
    "def add_list(l):\n",
    "    lista.append(sum(l[0:2]))\n",
    "    lista.append(sum(l[2:4]))\n",
    "\n",
    "add_list(lista)\n",
    "lista\n",
    "\n",
    "# Exercício 7 - Abaixo você encontra uma lista com temperaturas em graus Celsius\n",
    "# Crie uma função anônima que converta cada temperatura para Fahrenheit\n",
    "# Dica: para conseguir realizar este exercício, você deve criar sua função lambda, dentro de uma função \n",
    "# (que será estudada no próximo capítulo). Isso permite aplicar sua função a cada elemento da lista\n",
    "# Como descobrir a fórmula matemática que converte de Celsius para Fahrenheit? Pesquise!!!\n",
    "\n",
    "celsius = [39.2, 36.5, 37.3, 37.8]\n",
    "fahrenheit = map(lambda x: x * (9 / 5) + 32, celsius)\n",
    "\n",
    "lista_Fahr = list(fahrenheit)\n",
    "lista_Fahr\n",
    "\n",
    "\n",
    "# ************* Desafio ************* (pesquise na documentação Python)\n",
    "\n",
    "# Exercício 10 - Crie uma função que receba o arquivo abaixo como argumento e retorne um resumo estatístico descritivo \n",
    "# do arquivo. Dica, use Pandas e um de seus métodos, describe()\n",
    "# Arquivo: \"binary.csv\"\n",
    "import pandas as pd\n",
    "\n",
    "def disc(file):\n",
    "    df = pd.read_csv(file)\n",
    "    return df.describe()\n",
    "\n",
    "disc('binary.csv')"
   ]
  },
  {
   "cell_type": "code",
   "execution_count": 5,
   "id": "4e43cea9",
   "metadata": {},
   "outputs": [
    {
     "name": "stdout",
     "output_type": "stream",
     "text": [
      "\n",
      "******************* Python Calculator *******************\n",
      "\n",
      "Selecione o número de operação desejada:\n",
      "\n",
      "1 - Soma\n",
      "2 - Subtração\n",
      "3 - Multiplicação\n",
      "4 - Divisão\n",
      "\n",
      "Digite sua opção (1/2/3/4): 3\n",
      "\n",
      "Digite o primeiro número:5663\n",
      "\n",
      "Digite o segundo número:78\n",
      "\n",
      "5663 * 78 = 441714\n"
     ]
    }
   ],
   "source": [
    "# ********* Desafio Calculadora em Python *********\n",
    "# Desenvolva uma calculadora em Python com tudo que você aprendeu nos capítulos 2 e 3. \n",
    "# A solução será apresentada no próximo capítulo!\n",
    "# Assista o vídeo com a execução do programa!\n",
    "\n",
    "print(\"\\n******************* Python Calculator *******************\")\n",
    "print()\n",
    "print('Selecione o número de operação desejada:')\n",
    "print('''\n",
    "1 - Soma\n",
    "2 - Subtração\n",
    "3 - Multiplicação\n",
    "4 - Divisão''')\n",
    "print()\n",
    "operacao = input('Digite sua opção (1/2/3/4): ')\n",
    "print()\n",
    "n1 = int(input('Digite o primeiro número:' ))\n",
    "print()\n",
    "n2 = int(input('Digite o segundo número:' ))\n",
    "print()\n",
    "\n",
    "def calculator(op, n1, n2):\n",
    "    if op == '1':\n",
    "        print(f'{n1} + {n2} = {n1 + n2}')\n",
    "    elif op == '2':\n",
    "        print(f'{n1} - {n2} = {n1 - n2}')\n",
    "    elif op == '3':\n",
    "        print(f'{n1} * {n2} = {n1 * n2}')\n",
    "    elif op == '4':\n",
    "        print(f'{n1} / {n2} = {n1 / n2}')\n",
    "    else:\n",
    "        print('Operação Incorreta!')\n",
    "\n",
    "        \n",
    "calculator(operacao, n1, n2)"
   ]
  },
  {
   "cell_type": "code",
   "execution_count": 1,
   "id": "29d8a410",
   "metadata": {},
   "outputs": [
    {
     "data": {
      "text/plain": [
       "[30, 100, 576, 600, 1100, 1702, 2133, 2331, 2336, 2698]"
      ]
     },
     "execution_count": 1,
     "metadata": {},
     "output_type": "execute_result"
    }
   ],
   "source": [
    "# Map - O Map é uma função built-in que mapea todos os elementos de uma lista, fazendo a função similar ao loop for.\n",
    "#  map(função, sequência) --> O primeiro argumento é o nome de uma função e o segundo uma sequencia (uma lista por exemplo)\n",
    "\n",
    "# Exemplos - Vamos criar duas funções\n",
    "# Função 1 - Receba uma temperatura como parâmetro e retorna a temperatura em Fahrenheit\n",
    "def fahren(t):\n",
    "    return (t * (9 / 5) + 32)\n",
    "\n",
    "# Função 2 - Receba uma temperatura como parâmetro e retorna a temperatura em Celsius\n",
    "def celsius(t):\n",
    "    return ((t - 32) * (5 / 9))\n",
    "\n",
    "# Agora iremos criar uma lista de temperaturas\n",
    "temperatura = [0, 22.5, 40, 85, 100, 106]\n",
    "\n",
    "# A partir desse momento iremos passar a lista para as funções, se entramos com a lista como parametro irá retornar um \n",
    "# erro pois tem valores float, iremos usar a função map() para retornar uma lista dos novos valores\n",
    "map(fahren, temperatura)  # Por padrão ela retorna um iterator sendo necessario converter para um lista os valores\n",
    "list(map(fahren, temperatura))  # Dessa forma retornará a lista \n",
    "\n",
    "## Podemos usar a função Map() com a função anonima Lambda, usando a função list para converter em uma lista\n",
    "list(map(lambda x: x * (9 / 5) + 32, temperatura))\n",
    "\n",
    "# A função Map() tem diversas utilidades principalmente com a função lambda, vamos usar a função random para criar duas lista\n",
    "import numpy as np\n",
    "\n",
    "lista1 = np.random.randint(50, size=10)\n",
    "lista2 = np.random.randint(100, size=10)\n",
    "\n",
    "# Vamos usar a função Map() e Lambda() para somar as listas retornando outra lista com os valores\n",
    "sorted(list(map(lambda x, y: x * y, lista1, lista2))) # usando a função para retornar os valores em ordem, nunca se limite vá além!\n"
   ]
  },
  {
   "cell_type": "code",
   "execution_count": 2,
   "id": "7573da7f",
   "metadata": {},
   "outputs": [
    {
     "data": {
      "text/plain": [
       "79"
      ]
     },
     "execution_count": 2,
     "metadata": {},
     "output_type": "execute_result"
    }
   ],
   "source": [
    "# REDUCE - É uma função que assim como o Map ela recebe dos argumentos (função e sequência)\n",
    "# Ao contrario da função map que aplica a função a cada elemento da sequência e retorna uma outra sequência de elementos, a função\n",
    "# reduce aplica a função passada como parâmetro aos elementos da sequência, até que reste apenas um elemento.\n",
    "\n",
    "# Para usar o Reduce é necessario importar a função de uma biblioteca \n",
    "from functools import reduce\n",
    "\n",
    "# Iremos somar todos os valores com o reduce retornando o valor total da lista, não é necessário criar uma lista\n",
    "reduce(lambda x,y: x + y,lista1)\n",
    "\n",
    "# vamos usar a função lambda para retornar o maior valore dentro da lista\n",
    "reduce(lambda x,y: x if (x > y) else y, lista2)"
   ]
  },
  {
   "cell_type": "code",
   "execution_count": 3,
   "id": "38a42ea3",
   "metadata": {},
   "outputs": [
    {
     "data": {
      "text/plain": [
       "[71, 55, 73, 63, 74]"
      ]
     },
     "execution_count": 3,
     "metadata": {},
     "output_type": "execute_result"
    }
   ],
   "source": [
    "# FILTER - Outra função built-in muito usada é o Filter(), recebendo 2 argumentos(função, sequência)\n",
    "# A função Filter() oferece uma maneira conveniente para filtrar todos os elementos de uma sequência, para os quais retorne True\n",
    "\n",
    "# Vamos usar o filter a partir de uma lista retornando os valores que sejam True de uma condição no Lambda\n",
    "list(filter(lambda x: x % 2 == 0, lista2))  # Usando a função a partir de uma lista\n",
    "\n",
    "list(filter(lambda x: x >38 and x < 79, lista2))\n"
   ]
  },
  {
   "cell_type": "code",
   "execution_count": 4,
   "id": "4876a349",
   "metadata": {},
   "outputs": [
    {
     "data": {
      "text/plain": [
       "[32.0, 72.5, 104.0, 185.0, 212.0, 222.8]"
      ]
     },
     "execution_count": 4,
     "metadata": {},
     "output_type": "execute_result"
    }
   ],
   "source": [
    "# List Comprehension - Aplica uma expressão arbitrária ao invés de aplicar apenas uma função a uma sequência de elementos.\n",
    "# LC nos permite a desenvolver listas usando uma notação diferente, seria uma linha de loop for, construida dentro de [].\n",
    "# Normalmente usamos loops for quando trabalhamos com função Map() e usamos LC quando esta for mais fácil de ser aplicada, há\n",
    "# vantagens substancial de desempenho ao utilizar a list Comprehension.\n",
    "\n",
    "# EX: lst = [x for x in sequência] --> Lista Comprehensions\n",
    "[x for x in 'Python']  # Vamos criar exemplo simples.\n",
    "\n",
    "# Podemos usa-la de diversas forma sendo util em varios cenarios, retornando o valor elevado ao quadrado\n",
    "[x ** 2 for x in lista2]\n",
    "\n",
    "# Vamos retornar os valores pares de uma lista\n",
    "[x for x in lista2 if x % 2 == 0]\n",
    "\n",
    "# Convertendo as temperaturas para Fahrenheit\n",
    "[(temp * (9 / 5) + 32) for temp in temperatura]"
   ]
  },
  {
   "cell_type": "code",
   "execution_count": 5,
   "id": "021ac411",
   "metadata": {},
   "outputs": [
    {
     "data": {
      "text/plain": [
       "[(0, 38),\n",
       " (1, 6),\n",
       " (2, 20),\n",
       " (3, 10),\n",
       " (4, 32),\n",
       " (5, 27),\n",
       " (6, 37),\n",
       " (7, 23),\n",
       " (8, 30),\n",
       " (9, 16)]"
      ]
     },
     "execution_count": 5,
     "metadata": {},
     "output_type": "execute_result"
    }
   ],
   "source": [
    "## ZIP e ENUMERATE\n",
    "# A função Zip() agrega os valores de duas sequências e retorna uma tupla. zip(sequência, sequência), pode ser usado quando o \n",
    "# número de elementos for diferente em cada sequência, mas o objeto resultante terá o mesmo número de elementos da sequência menor.\n",
    "list(zip(lista1, lista2))  # A função retorna uma lista de tuplas, pegando o valor do indice de cada sequencia e criando a tupla\n",
    "\n",
    "# A função Enumerate() permite retornar o índice de cada valor em uma sequência, à medida que você percorre toda a sequência.\n",
    "list(enumerate(lista1))  # Enumerate retorna uma tupla no formato tupla(índice, valor)\n",
    "\n",
    "# O enumerate é bom para usar em datasets a partir do momento que precisa numerar os valores de uma coluna\n",
    "# ex: list(enumerate(dataset['Name'])) --> Retorna os nomes do datasets numerados"
   ]
  },
  {
   "cell_type": "markdown",
   "id": "8eade5dd",
   "metadata": {},
   "source": [
    "### Exercicios do Modulos"
   ]
  },
  {
   "cell_type": "code",
   "execution_count": 6,
   "id": "7a4f0367",
   "metadata": {},
   "outputs": [
    {
     "data": {
      "text/plain": [
       "[125, 512, 343]"
      ]
     },
     "execution_count": 6,
     "metadata": {},
     "output_type": "execute_result"
    }
   ],
   "source": [
    "# Exercício 1 - Crie uma lista de 3 elementos e calcule a terceira potência de cada elemento.\n",
    "lst = [5, 8, 7]\n",
    "[x ** 3 for x in lst]"
   ]
  },
  {
   "cell_type": "code",
   "execution_count": 7,
   "id": "c8c5a324",
   "metadata": {},
   "outputs": [
    {
     "name": "stdout",
     "output_type": "stream",
     "text": [
      "['A', 'a', 1]\n",
      "['DATA', 'data', 4]\n",
      "['SCIENCE', 'science', 7]\n",
      "['ACADEMY', 'academy', 7]\n",
      "['OFERCE', 'oferce', 6]\n",
      "['OS', 'os', 2]\n",
      "['MELHORES', 'melhores', 8]\n",
      "['CURSOS', 'cursos', 6]\n",
      "['DE', 'de', 2]\n",
      "['ANÁLISE', 'análise', 7]\n",
      "['DE', 'de', 2]\n",
      "['DADOS', 'dados', 5]\n",
      "['DO', 'do', 2]\n",
      "['BRASIL', 'brasil', 6]\n"
     ]
    }
   ],
   "source": [
    "# Exercício 2 - Reescreva o código abaixo, usando a função map(). O resultado final deve ser o mesmo!\n",
    "palavras = 'A Data Science Academy oferce os melhores cursos de análise de dados do Brasil'.split()\n",
    "resultado = [[w.upper(), w.lower(), len(w)] for w in palavras]\n",
    "for i in resultado:\n",
    "    print (i)\n"
   ]
  },
  {
   "cell_type": "code",
   "execution_count": 8,
   "id": "a4324395",
   "metadata": {},
   "outputs": [
    {
     "name": "stdout",
     "output_type": "stream",
     "text": [
      "['A', 'a', 1]\n",
      "['DATA', 'data', 4]\n",
      "['SCIENCE', 'science', 7]\n",
      "['ACADEMY', 'academy', 7]\n",
      "['OFERCE', 'oferce', 6]\n",
      "['OS', 'os', 2]\n",
      "['MELHORES', 'melhores', 8]\n",
      "['CURSOS', 'cursos', 6]\n",
      "['DE', 'de', 2]\n",
      "['ANÁLISE', 'análise', 7]\n",
      "['DE', 'de', 2]\n",
      "['DADOS', 'dados', 5]\n",
      "['DO', 'do', 2]\n",
      "['BRASIL', 'brasil', 6]\n"
     ]
    }
   ],
   "source": [
    "result = map(lambda w: [w.upper(), w.lower(), len(w)], palavras)\n",
    "for x in result:\n",
    "    print(x)"
   ]
  },
  {
   "cell_type": "code",
   "execution_count": 9,
   "id": "82b4c15e",
   "metadata": {},
   "outputs": [
    {
     "data": {
      "text/plain": [
       "[[1, 3, 5, 7], [2, 4, 6, 8]]"
      ]
     },
     "execution_count": 9,
     "metadata": {},
     "output_type": "execute_result"
    }
   ],
   "source": [
    "# Exercício 3 - Calcule a matriz transposta da matriz abaixo.\n",
    "# Caso não saiba o que é matriz transposta, visite este link: https://pt.wikipedia.org/wiki/Matriz_transposta\n",
    "# Matriz transposta é um conceito fundamental na construção de redes neurais artificiais, base de sistemas de IA.\n",
    "matrix = [[1, 2],[3,4],[5,6],[7,8]]\n",
    "[[row[i] for row in matrix] for i in range(2)]"
   ]
  },
  {
   "cell_type": "code",
   "execution_count": 10,
   "id": "689e0609",
   "metadata": {},
   "outputs": [
    {
     "name": "stdout",
     "output_type": "stream",
     "text": [
      "[0, 0]\n",
      "[1, 1]\n",
      "[4, 8]\n",
      "[9, 27]\n",
      "[16, 64]\n"
     ]
    }
   ],
   "source": [
    "# Exercício 4 - Crie duas funções, uma para elevar um número ao quadrado e outra para elevar ao cubo. \n",
    "# Aplique as duas funções aos elementos da lista abaixo. \n",
    "# Obs: as duas funções devem ser aplicadas simultaneamente.\n",
    "lista = [0, 1, 2, 3, 4]\n",
    "\n",
    "def quad(x):\n",
    "    return x ** 2\n",
    "\n",
    "def cubo(x):\n",
    "    return x ** 3\n",
    "\n",
    "funcs = [quad, cubo]\n",
    "\n",
    "for i in lista:\n",
    "    valor = map(lambda x: x(i), funcs)\n",
    "    print(list(valor))"
   ]
  },
  {
   "cell_type": "code",
   "execution_count": 11,
   "id": "93446758",
   "metadata": {},
   "outputs": [
    {
     "data": {
      "text/plain": [
       "[1024, 177147, 16777216]"
      ]
     },
     "execution_count": 11,
     "metadata": {},
     "output_type": "execute_result"
    }
   ],
   "source": [
    "# Exercício 5 - Abaixo você encontra duas listas. Faça com que cada elemento da listaA seja elevado \n",
    "# ao elemento correspondente na listaB.\n",
    "listaA = [2, 3, 4]\n",
    "listaB = [10, 11, 12]\n",
    "\n",
    "list(map(pow, listaA, listaB))"
   ]
  },
  {
   "cell_type": "code",
   "execution_count": 12,
   "id": "c1e0ce2e",
   "metadata": {},
   "outputs": [
    {
     "data": {
      "text/plain": [
       "[-5, -4, -3, -2, -1]"
      ]
     },
     "execution_count": 12,
     "metadata": {},
     "output_type": "execute_result"
    }
   ],
   "source": [
    "# Exercício 6 - Considerando o range de valores abaixo, use a função filter() para retornar apenas os valores negativos.\n",
    "range(-5, 5)\n",
    "\n",
    "list(filter(lambda x: x < 0, range(-5, 5)))"
   ]
  },
  {
   "cell_type": "code",
   "execution_count": 13,
   "id": "7fd6e723",
   "metadata": {},
   "outputs": [
    {
     "data": {
      "text/plain": [
       "[2, 3, 5, 7]"
      ]
     },
     "execution_count": 13,
     "metadata": {},
     "output_type": "execute_result"
    }
   ],
   "source": [
    "# Exercício 7 - Usando a função filter(), encontre os valores que são comuns às duas listas abaixo.\n",
    "a = [1,2,3,5,7,9]\n",
    "b = [2,3,5,6,7,8]\n",
    "\n",
    "list(filter(lambda x: x in a, b))"
   ]
  },
  {
   "cell_type": "code",
   "execution_count": 14,
   "id": "b2690aea",
   "metadata": {},
   "outputs": [
    {
     "name": "stdout",
     "output_type": "stream",
     "text": [
      "23/08/2022 19:16\n",
      "23/08/2022 19:16\n"
     ]
    }
   ],
   "source": [
    "# Exercício 8 - Considere o código abaixo. Obtenha o mesmo resultado usando o pacote time. \n",
    "# Não conhece o pacote time? Pesquise!\n",
    "import datetime\n",
    "print (datetime.datetime.now().strftime(\"%d/%m/%Y %H:%M\"))\n",
    "import time\n",
    "print (time.strftime(\"%d/%m/%Y %H:%M\"))"
   ]
  },
  {
   "cell_type": "code",
   "execution_count": 15,
   "id": "d3b03aba",
   "metadata": {},
   "outputs": [
    {
     "data": {
      "text/plain": [
       "{'a': 4, 'b': 5}"
      ]
     },
     "execution_count": 15,
     "metadata": {},
     "output_type": "execute_result"
    }
   ],
   "source": [
    "# Exercício 9 - Considere os dois dicionários abaixo. \n",
    "# Crie um terceiro dicionário com as chaves do dicionário 1 e os valores do dicionário 2.\n",
    "dict1 = {'a':1,'b':2}\n",
    "dict2 = {'c':4,'d':5}\n",
    "\n",
    "dict(zip(dict1, dict2.values()))"
   ]
  },
  {
   "cell_type": "code",
   "execution_count": 16,
   "id": "44e8c309",
   "metadata": {},
   "outputs": [
    {
     "name": "stdout",
     "output_type": "stream",
     "text": [
      "g\n",
      "h\n"
     ]
    }
   ],
   "source": [
    "valor# Exercício 10 - Considere a lista abaixo e retorne apenas os elementos cujo índice for maior que 5.\n",
    "lista = ['a', 'b', 'c', 'd', 'e', 'f', 'g', 'h']\n",
    "\n",
    "for i, v in enumerate(lista):\n",
    "    if i <= 5:\n",
    "        continue\n",
    "    else:\n",
    "        print(v)"
   ]
  },
  {
   "cell_type": "code",
   "execution_count": 17,
   "id": "bee0c6a2",
   "metadata": {},
   "outputs": [
    {
     "name": "stdout",
     "output_type": "stream",
     "text": [
      "Bob tem 30 anos.\n"
     ]
    }
   ],
   "source": [
    "def imprimeDados( nome, idade ):\n",
    "    print (\"%s tem %s anos.\" %(nome, idade))\n",
    "    return;\n",
    "\n",
    "imprimeDados( idade=30, nome=\"Bob\" )"
   ]
  },
  {
   "cell_type": "markdown",
   "id": "3b67ee4e",
   "metadata": {},
   "source": [
    "### Orientação a Objeto\n",
    "Principais conceitos do POO:\n",
    "\n",
    "Classe\n",
    "Objeto\n",
    "Atributos\n",
    "Métodos\n",
    "Mensagem\n",
    "Herança\n",
    "Polimorfismo\n",
    "Emcapsulamento\n",
    "Neste capítulo, vamos aprender sobre POO em Python através dos seguintes tópicos:\n",
    "\n",
    "Usando a palavra reservada class\n",
    "Criando atributos e classes\n",
    "Criando métodos em uma classe\n",
    "Instanciando objetos\n",
    "Herança\n",
    "Métodos especiais"
   ]
  },
  {
   "cell_type": "markdown",
   "id": "abce3e1e",
   "metadata": {},
   "source": [
    "### Classes\n",
    "A classe é a estrutura básica do paradigma de orientação a objetos, que representa o tipo de objeto, um modelo a partir do qual os objetos serão criados."
   ]
  },
  {
   "cell_type": "code",
   "execution_count": 1,
   "id": "d25b1be3",
   "metadata": {},
   "outputs": [],
   "source": [
    "# Crindo uma Classe\n",
    "\n",
    "class Livro():\n",
    "    #\n",
    "    # Este método vai inicializar cada objeto criado a partir desta classe\n",
    "    # O nome deste método é _init_\n",
    "    # (self) é uma referência a cada atributo de um objeto criado a partir desta classe\n",
    "    def __init__(self):\n",
    "\n",
    "        # Atributos de cada objeto criado a partir dessa classe.\n",
    "        # O self indica que estes são atributos dos objetos\n",
    "        self.titulo = 'O Monje e o Executivo'\n",
    "        self.isbn = 9988888\n",
    "        print('Construtor chamado para criar um objetivo desta classe')\n",
    "\n",
    "    # Método são funções, que recebem como parâmetro atributos do objeto criado\n",
    "    def imprime(self):\n",
    "        print(f'Foi criado o livro {self.titulo} e ISNB {self.isbn}')"
   ]
  },
  {
   "cell_type": "code",
   "execution_count": 2,
   "id": "ee47229a",
   "metadata": {},
   "outputs": [
    {
     "name": "stdout",
     "output_type": "stream",
     "text": [
      "Construtor chamado para criar um objetivo desta classe\n"
     ]
    }
   ],
   "source": [
    "# Criando uma instância da classe Livro\n",
    "Livro1 = Livro()"
   ]
  },
  {
   "cell_type": "code",
   "execution_count": 3,
   "id": "14b53a6f",
   "metadata": {},
   "outputs": [
    {
     "data": {
      "text/plain": [
       "'O Monje e o Executivo'"
      ]
     },
     "execution_count": 3,
     "metadata": {},
     "output_type": "execute_result"
    }
   ],
   "source": [
    "# Atributo do objeto Livro1\n",
    "Livro1.titulo"
   ]
  },
  {
   "cell_type": "code",
   "execution_count": 4,
   "id": "f7a73fb7",
   "metadata": {},
   "outputs": [
    {
     "name": "stdout",
     "output_type": "stream",
     "text": [
      "Foi criado o livro O Monje e o Executivo e ISNB 9988888\n"
     ]
    }
   ],
   "source": [
    "# Usando o metodo imprime()\n",
    "Livro1.imprime()"
   ]
  },
  {
   "cell_type": "code",
   "execution_count": 5,
   "id": "81c70b5c",
   "metadata": {},
   "outputs": [],
   "source": [
    "# Criando uma classe livre\n",
    "\n",
    "class Livro():\n",
    "    def __init__(self, titulo, isbn, autor):\n",
    "        self.titulo = titulo\n",
    "        self.isbn = isbn\n",
    "        self.autor = autor\n",
    "        print('Construtor chamado para criar um objetivo desta classe')\n",
    "\n",
    "    def imprime(self):\n",
    "        print(f'Foi criado o livro {self.titulo} e ISNB {self.isbn}')"
   ]
  },
  {
   "cell_type": "code",
   "execution_count": 6,
   "id": "b0eb36e8",
   "metadata": {},
   "outputs": [
    {
     "name": "stdout",
     "output_type": "stream",
     "text": [
      "Construtor chamado para criar um objetivo desta classe\n"
     ]
    }
   ],
   "source": [
    "# Criando o objeto Livro2 que é uma instância da classe Livro\n",
    "Livro2 = Livro('A menina e o porquinho', 77842511, 'Jullie McLauge')"
   ]
  },
  {
   "cell_type": "code",
   "execution_count": 7,
   "id": "8361a348",
   "metadata": {},
   "outputs": [
    {
     "name": "stdout",
     "output_type": "stream",
     "text": [
      "Construtor chamado para criar um objetivo desta classe\n"
     ]
    }
   ],
   "source": [
    "# Criando o Livro 3 para verificar as informações\n",
    "Livro3 = Livro('A batalha do Apocalipse', 44175201, 'Eduardo Spohr')"
   ]
  },
  {
   "cell_type": "code",
   "execution_count": 8,
   "id": "132301cf",
   "metadata": {},
   "outputs": [
    {
     "data": {
      "text/plain": [
       "'A menina e o porquinho'"
      ]
     },
     "execution_count": 8,
     "metadata": {},
     "output_type": "execute_result"
    }
   ],
   "source": [
    "# Verificando as informações do titulo\n",
    "Livro2.titulo"
   ]
  },
  {
   "cell_type": "code",
   "execution_count": 9,
   "id": "99313b89",
   "metadata": {},
   "outputs": [
    {
     "data": {
      "text/plain": [
       "'Eduardo Spohr'"
      ]
     },
     "execution_count": 9,
     "metadata": {},
     "output_type": "execute_result"
    }
   ],
   "source": [
    "# Verificando as informações do autor\n",
    "Livro3.autor"
   ]
  },
  {
   "cell_type": "code",
   "execution_count": 10,
   "id": "d8c5ca3e",
   "metadata": {},
   "outputs": [],
   "source": [
    "# Baseado nisso irei criar uma classe similar a um formulario para um banco de dados\n",
    "\n",
    "class formulario():\n",
    "\n",
    "    def __init__(self, nome, dataNasc, email, tel, endereco,id):\n",
    "        self.id = id\n",
    "        self.nome = nome\n",
    "        self.dataNasc = dataNasc\n",
    "        self.email = email\n",
    "        self.tel = tel\n",
    "        self.endereco = endereco\n",
    "        print('Cadastro realizado em nosso sistema!')\n",
    "\n",
    "    def imprime(self):\n",
    "        print(f'Informações do Cliente: 00{self.id}')\n",
    "        print()\n",
    "        print(f'Nome: {self.nome}')\n",
    "        print(f'Data de Nascimento: {self.dataNasc}')\n",
    "        print(f'Email: {self.email}')\n",
    "        print(f'Telefone: {self.tel}')\n",
    "        print(f'Endereço: {self.endereco}')"
   ]
  },
  {
   "cell_type": "code",
   "execution_count": 16,
   "id": "13a06467",
   "metadata": {},
   "outputs": [
    {
     "name": "stdout",
     "output_type": "stream",
     "text": [
      "Nome:Lidia Chacon\n",
      "Data de Nascimento:20/11/1990\n",
      "Email:lidiachacon@gmail.com\n",
      "Telefone:21 991540041\n",
      "Endereço:Rua da Usina, 159 cs3\n",
      "ID do Clinte:2\n",
      "Deseja cadastrar outro [S/N]:N\n"
     ]
    }
   ],
   "source": [
    "# Usando a função while para entrada de dados\n",
    "cadastro = 0\n",
    "\n",
    "while cadastro == 0 :\n",
    "    nome = input('Nome:')\n",
    "    dataNasc = input('Data de Nascimento:')\n",
    "    email = input('Email:')\n",
    "    tel = input('Telefone:')\n",
    "    endereco = input('Endereço:')\n",
    "    id = input('ID do Clinte:')\n",
    "    log = input('Deseja cadastrar outro [S/N]:')\n",
    "    \n",
    "    if log == 'N':\n",
    "        break"
   ]
  },
  {
   "cell_type": "code",
   "execution_count": 14,
   "id": "2ed2fee0",
   "metadata": {},
   "outputs": [
    {
     "name": "stdout",
     "output_type": "stream",
     "text": [
      "Cadastro realizado em nosso sistema!\n"
     ]
    }
   ],
   "source": [
    "# Cadastrando cliente\n",
    "cliente1 = formulario(nome,dataNasc, email, tel, endereco, id)"
   ]
  },
  {
   "cell_type": "code",
   "execution_count": 15,
   "id": "4666aeff",
   "metadata": {},
   "outputs": [
    {
     "name": "stdout",
     "output_type": "stream",
     "text": [
      "Informações do Cliente: 001\n",
      "\n",
      "Nome: Wendell Barcelos\n",
      "Data de Nascimento: 30/11/1991\n",
      "Email: wendell_barcelos2@hotmail.com\n",
      "Telefone: 21 973631170\n",
      "Endereço: Rua da Usina, 159 cs3\n"
     ]
    }
   ],
   "source": [
    "# Retornando as informações de cadastro\n",
    "cliente1.imprime()"
   ]
  },
  {
   "cell_type": "code",
   "execution_count": 17,
   "id": "626116eb",
   "metadata": {},
   "outputs": [
    {
     "name": "stdout",
     "output_type": "stream",
     "text": [
      "Cadastro realizado em nosso sistema!\n"
     ]
    }
   ],
   "source": [
    "# Cadastrando cliente\n",
    "cliente2 = formulario(nome,dataNasc, email, tel, endereco, id)"
   ]
  },
  {
   "cell_type": "code",
   "execution_count": 18,
   "id": "5725cfce",
   "metadata": {},
   "outputs": [
    {
     "name": "stdout",
     "output_type": "stream",
     "text": [
      "Informações do Cliente: 002\n",
      "\n",
      "Nome: Lidia Chacon\n",
      "Data de Nascimento: 20/11/1990\n",
      "Email: lidiachacon@gmail.com\n",
      "Telefone: 21 991540041\n",
      "Endereço: Rua da Usina, 159 cs3\n"
     ]
    }
   ],
   "source": [
    "# Retornando as informações de cadastro\n",
    "cliente2.imprime()"
   ]
  },
  {
   "cell_type": "code",
   "execution_count": null,
   "id": "a7e10761",
   "metadata": {},
   "outputs": [],
   "source": []
  },
  {
   "cell_type": "code",
   "execution_count": 25,
   "id": "732c8d54",
   "metadata": {},
   "outputs": [
    {
     "name": "stdout",
     "output_type": "stream",
     "text": [
      "3 5\n",
      "27 61\n"
     ]
    }
   ],
   "source": [
    "# Exercício 1 - Crie um objeto a partir da classe abaixo, chamado roc1, passando 2 parâmetros e depois faça uma chamada\n",
    "# aos atributos e métodos\n",
    "from math import sqrt\n",
    "\n",
    "class Rocket():\n",
    "     \n",
    "    def __init__(self, x=0, y=0):\n",
    "        self.x = x\n",
    "        self.y = y\n",
    "        \n",
    "    def move_rocket(self, x_increment=0, y_increment=1):\n",
    "        self.x += x_increment\n",
    "        self.y += y_increment\n",
    "        \n",
    "    def print_rocket(self):\n",
    "        print(self.x, self.y)\n",
    "        \n",
    "        \n",
    "# Resp\n",
    "roc1 = Rocket(3, 5)\n",
    "roc1.x\n",
    "roc1.y\n",
    "roc1.print_rocket()\n",
    "roc1.move_rocket(24, 56)\n",
    "roc1.print_rocket()"
   ]
  },
  {
   "cell_type": "code",
   "execution_count": 61,
   "id": "52bf8039",
   "metadata": {},
   "outputs": [],
   "source": [
    "# Exercício 2 - Crie uma classe chamada Pessoa() com os atributos: nome, cidade, telefone e e-mail. Use pelo menos 2\n",
    "# métodos especiais na sua classe. Crie um objeto da sua classe e faça uma chamada a pelo menos um dos seus métodos\n",
    "# especiais.\n",
    "\n",
    "class Pessoa():\n",
    "    \n",
    "    def __init__(self, nome, cidade, tel, email):\n",
    "        self.nome = nome\n",
    "        self.city = cidade\n",
    "        self.tel = tel\n",
    "        self.email = email\n",
    "        print('Usuario cadastrado')\n",
    "        \n",
    "    def __str__(self):\n",
    "        print(f'''O usuario {self.nome} mora na cidade {self.city}''')\n"
   ]
  },
  {
   "cell_type": "code",
   "execution_count": 62,
   "id": "8de5c383",
   "metadata": {},
   "outputs": [
    {
     "name": "stdout",
     "output_type": "stream",
     "text": [
      "Usuario cadastrado\n"
     ]
    }
   ],
   "source": [
    "# Cadastrando\n",
    "ID_001 = Pessoa('Wendell', 'Rio de Janeiro', 255489665, 'wendell@gmail.com')"
   ]
  },
  {
   "cell_type": "code",
   "execution_count": 65,
   "id": "4492bafe",
   "metadata": {},
   "outputs": [
    {
     "name": "stdout",
     "output_type": "stream",
     "text": [
      "O usuario Wendell mora na cidade Rio de Janeiro\n"
     ]
    },
    {
     "ename": "TypeError",
     "evalue": "__str__ returned non-string (type NoneType)",
     "output_type": "error",
     "traceback": [
      "\u001b[1;31m---------------------------------------------------------------------------\u001b[0m",
      "\u001b[1;31mTypeError\u001b[0m                                 Traceback (most recent call last)",
      "\u001b[1;32m<ipython-input-65-02c785462331>\u001b[0m in \u001b[0;36m<module>\u001b[1;34m\u001b[0m\n\u001b[0;32m      1\u001b[0m \u001b[0mID_001\u001b[0m\u001b[1;33m.\u001b[0m\u001b[0mcity\u001b[0m\u001b[1;33m\u001b[0m\u001b[1;33m\u001b[0m\u001b[0m\n\u001b[0;32m      2\u001b[0m \u001b[0mID_001\u001b[0m\u001b[1;33m.\u001b[0m\u001b[0memail\u001b[0m\u001b[1;33m\u001b[0m\u001b[1;33m\u001b[0m\u001b[0m\n\u001b[1;32m----> 3\u001b[1;33m \u001b[0mstr\u001b[0m\u001b[1;33m(\u001b[0m\u001b[0mID_001\u001b[0m\u001b[1;33m)\u001b[0m\u001b[1;33m\u001b[0m\u001b[1;33m\u001b[0m\u001b[0m\n\u001b[0m",
      "\u001b[1;31mTypeError\u001b[0m: __str__ returned non-string (type NoneType)"
     ]
    }
   ],
   "source": [
    "ID_001.city\n",
    "ID_001.email\n",
    "str(ID_001)"
   ]
  },
  {
   "cell_type": "code",
   "execution_count": null,
   "id": "4bb610d3",
   "metadata": {},
   "outputs": [],
   "source": [
    "# Exercício 3 - Crie a classe Smartphone com 2 atributos, tamanho e interface e crie a classe MP3Player com os \n",
    "# atributos capacidade. A classe MP3player deve herdar os atributos da classe Smartphone."
   ]
  },
  {
   "cell_type": "code",
   "execution_count": null,
   "id": "d0d45b3f",
   "metadata": {},
   "outputs": [],
   "source": []
  },
  {
   "cell_type": "code",
   "execution_count": null,
   "id": "322632ea",
   "metadata": {},
   "outputs": [],
   "source": []
  },
  {
   "cell_type": "code",
   "execution_count": null,
   "id": "6d1740b9",
   "metadata": {},
   "outputs": [],
   "source": []
  },
  {
   "cell_type": "code",
   "execution_count": null,
   "id": "8d90da37",
   "metadata": {},
   "outputs": [],
   "source": []
  },
  {
   "cell_type": "code",
   "execution_count": null,
   "id": "5540440d",
   "metadata": {},
   "outputs": [],
   "source": []
  },
  {
   "cell_type": "code",
   "execution_count": null,
   "id": "15af0185",
   "metadata": {},
   "outputs": [],
   "source": []
  },
  {
   "cell_type": "code",
   "execution_count": null,
   "id": "db24a6c8",
   "metadata": {},
   "outputs": [],
   "source": []
  },
  {
   "cell_type": "code",
   "execution_count": null,
   "id": "f5b6bd3b",
   "metadata": {},
   "outputs": [],
   "source": []
  },
  {
   "cell_type": "code",
   "execution_count": null,
   "id": "5eb53563",
   "metadata": {},
   "outputs": [],
   "source": []
  },
  {
   "cell_type": "code",
   "execution_count": null,
   "id": "502f90da",
   "metadata": {},
   "outputs": [],
   "source": []
  },
  {
   "cell_type": "code",
   "execution_count": null,
   "id": "2e90447c",
   "metadata": {},
   "outputs": [],
   "source": []
  }
 ],
 "metadata": {
  "kernelspec": {
   "display_name": "Python 3 (ipykernel)",
   "language": "python",
   "name": "python3"
  },
  "language_info": {
   "codemirror_mode": {
    "name": "ipython",
    "version": 3
   },
   "file_extension": ".py",
   "mimetype": "text/x-python",
   "name": "python",
   "nbconvert_exporter": "python",
   "pygments_lexer": "ipython3",
   "version": "3.9.7"
  }
 },
 "nbformat": 4,
 "nbformat_minor": 5
}
